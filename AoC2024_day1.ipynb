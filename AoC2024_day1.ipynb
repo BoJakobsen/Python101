{
  "nbformat": 4,
  "nbformat_minor": 0,
  "metadata": {
    "colab": {
      "provenance": [],
      "authorship_tag": "ABX9TyNiZmjfTAeIsCTHQzaJThyn",
      "include_colab_link": true
    },
    "kernelspec": {
      "name": "python3",
      "display_name": "Python 3"
    },
    "language_info": {
      "name": "python"
    }
  },
  "cells": [
    {
      "cell_type": "markdown",
      "metadata": {
        "id": "view-in-github",
        "colab_type": "text"
      },
      "source": [
        "<a href=\"https://colab.research.google.com/github/BoJakobsen/PythonTAP2025/blob/main/AoC2024_day1.ipynb\" target=\"_parent\"><img src=\"https://colab.research.google.com/assets/colab-badge.svg\" alt=\"Open In Colab\"/></a>"
      ]
    },
    {
      "cell_type": "markdown",
      "source": [
        "# Advent of Code (AoC) 2024 day 1 part 1\n",
        "\n",
        "For beskrivelse af opgaven se:\n",
        "\n",
        "https://adventofcode.com/2024/day/1\n",
        "\n",
        "Cellen nedenfor konvertere test-dataene fra opgraven til en \"liste af lister\" som man kan arbejde videre på.\n",
        "\n",
        "Hvis man vil prøve kræfter med det fulde dataset kræver det at man logger ind på AoC (eller får Bo's datafile).\n",
        "\n",
        "Men prøv først med test dataene.\n",
        "\n"
      ],
      "metadata": {
        "id": "aXT2dA9-sEJV"
      }
    },
    {
      "cell_type": "code",
      "metadata": {
        "colab": {
          "base_uri": "https://localhost:8080/"
        },
        "id": "4d8b5ca8",
        "outputId": "bcdd40f0-92ad-4fbc-865c-e4fc5cbbbfd5"
      },
      "source": [
        "# define the test-data as a multiline string (as it will be in the file for the real problem)\n",
        "data_raw = \"\"\"3   4\n",
        "          4   3\n",
        "          2   5\n",
        "          1   3\n",
        "          3   9\n",
        "          3   3\"\"\"\n",
        "\n",
        "# Split the data into lines, then split each line by whitespace and convert to integers\n",
        "data = [[int(x) for x in line.split()] for line in data_raw.strip().split('\\n')]\n",
        "\n",
        "print(data)"
      ],
      "execution_count": 1,
      "outputs": [
        {
          "output_type": "stream",
          "name": "stdout",
          "text": [
            "[[3, 4], [4, 3], [2, 5], [1, 3], [3, 9], [3, 3]]\n"
          ]
        }
      ]
    },
    {
      "cell_type": "code",
      "source": [
        "# load data from a file (upload the datafile as 1.dat).\n",
        "#with open('1.dat') as f:\n",
        "#    lines=[[int(x) for x in line.split()] for line in f]\n"
      ],
      "metadata": {
        "id": "q8j2BqOCsvzg"
      },
      "execution_count": 11,
      "outputs": []
    },
    {
      "cell_type": "code",
      "source": [],
      "metadata": {
        "id": "eJwprj0waLc2"
      },
      "execution_count": null,
      "outputs": []
    }
  ]
}