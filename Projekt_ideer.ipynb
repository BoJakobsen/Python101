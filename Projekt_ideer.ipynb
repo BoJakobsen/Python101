{
  "nbformat": 4,
  "nbformat_minor": 0,
  "metadata": {
    "colab": {
      "provenance": [],
      "authorship_tag": "ABX9TyN924AQ4fvrMYsttHHBSxD+"
    },
    "kernelspec": {
      "name": "python3",
      "display_name": "Python 3"
    },
    "language_info": {
      "name": "python"
    }
  },
  "cells": [
    {
      "cell_type": "markdown",
      "source": [
        "# Micropython på RaspberryPi Pico\n",
        "\n",
        "Hardware nær programmering.\n",
        "\n",
        "Kan vi få en diode til at blinke, og få noget på den skærm der er indkøbt."
      ],
      "metadata": {
        "id": "M8FhhCvHg2UL"
      }
    },
    {
      "cell_type": "markdown",
      "source": [
        "# Dataanalyse\n",
        "\n",
        "Brug af Python med numpy og mathplotlib (evt pandas) til at se på data.\n",
        "\n",
        "Det gode alternativ til Excell"
      ],
      "metadata": {
        "id": "VDtOBYGwhBh9"
      }
    },
    {
      "cell_type": "markdown",
      "source": [
        "# Algoritmer\n",
        "(Bos ynglings emne)\n",
        "\n",
        "Simple søge algoritmer (DFS og BFS) til løsning af labyrinter."
      ],
      "metadata": {
        "id": "q_l1dNS0hW3O"
      }
    },
    {
      "cell_type": "markdown",
      "source": [
        "# Noget med grafik eller lyd\n",
        "\n",
        "Det som jeg ved mindst om, men vi kan finde på noget."
      ],
      "metadata": {
        "id": "UjVDV9jnhmzr"
      }
    },
    {
      "cell_type": "code",
      "execution_count": null,
      "metadata": {
        "id": "mJgz4Fs4gi3Y"
      },
      "outputs": [],
      "source": []
    }
  ]
}