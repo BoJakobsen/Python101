{
  "nbformat": 4,
  "nbformat_minor": 0,
  "metadata": {
    "colab": {
      "provenance": [],
      "authorship_tag": "ABX9TyPa7AGYeE+Yak9+HuB0Dco4",
      "include_colab_link": true
    },
    "kernelspec": {
      "name": "python3",
      "display_name": "Python 3"
    },
    "language_info": {
      "name": "python"
    }
  },
  "cells": [
    {
      "cell_type": "markdown",
      "metadata": {
        "id": "view-in-github",
        "colab_type": "text"
      },
      "source": [
        "<a href=\"https://colab.research.google.com/github/BoJakobsen/Python101/blob/main/Session1.ipynb\" target=\"_parent\"><img src=\"https://colab.research.google.com/assets/colab-badge.svg\" alt=\"Open In Colab\"/></a>"
      ]
    },
    {
      "cell_type": "markdown",
      "source": [
        "# Kursusmateriale til TAP Python kursus, del 1"
      ],
      "metadata": {
        "id": "MOKM0mNhH7Wn"
      }
    },
    {
      "cell_type": "markdown",
      "source": [
        "En \"celle\" køres med \"shift + enter\" eller den lille \"Play knap\"\n",
        "\n",
        "En \"celle\" kan enten være kode eller tekst\n",
        "\n",
        "Man kan indsætte nye celler over eller under den nuværende celle\n",
        "\n",
        "Bemærk at kun resultatet fra den sidste linje i en kode celle skrives ud"
      ],
      "metadata": {
        "id": "GVKLnqUmJwR_"
      }
    },
    {
      "cell_type": "markdown",
      "source": [
        "## Python som lommeregner"
      ],
      "metadata": {
        "id": "P4cQDI-nJMHI"
      }
    },
    {
      "cell_type": "markdown",
      "source": [
        "Python kan bruges som lommeregner, man kan både have heltal og kommatal (brug . som komma)\n",
        "\n",
        "Prøv at bruge de fire almindelige regnearter: +,-,*, /\n",
        "\n",
        "Parenteser virker som de plejer ( ), og Python regner med regnearterne i rigtig rækkefølge (prøv 2+5*2 og (2+5)*2\n",
        "\n",
        "Potens skrives som ** (og ikke ^ som i mange andre sprog)\n",
        "\n",
        "Prøve også de mere specielle // og % (prøv at finde ud af hvad de gør, prøv evt at spørge den indbyggede AI)"
      ],
      "metadata": {
        "id": "yP2eJ_mdJGWy"
      }
    },
    {
      "cell_type": "code",
      "source": [],
      "metadata": {
        "id": "jc_gqJlYJWJ-"
      },
      "execution_count": null,
      "outputs": []
    },
    {
      "cell_type": "markdown",
      "source": [
        "## Simple tekst strenge"
      ],
      "metadata": {
        "id": "mQt1ppumT7ZQ"
      }
    },
    {
      "cell_type": "markdown",
      "source": [
        "Tekst skrives i Python enten med \" \" eller ' ' (der er frit valg)\n",
        "\n",
        "Python har mange funktioner som kan gøre ting på strenge.\n",
        "\n",
        "De kan f.eks. lægges sammen (prøv det)\n",
        ""
      ],
      "metadata": {
        "id": "W0QaeSRXT_Ck"
      }
    },
    {
      "cell_type": "code",
      "source": [],
      "metadata": {
        "id": "Q8ISzl79VCHh"
      },
      "execution_count": null,
      "outputs": []
    },
    {
      "cell_type": "markdown",
      "source": [
        "## Metoder"
      ],
      "metadata": {
        "id": "05zy8Mw4U7li"
      }
    },
    {
      "cell_type": "markdown",
      "source": [
        "En anden meget generel ting i Python er at et \"objekt\" (fx et tal eller en streng) kan kan såkaldte metoder tilknyttet som gør et eller andet.\n",
        "\n",
        "Prøve at lave en streng og sæt så umiddelbart et . (udenfor gåseøjnene)\n",
        "\n",
        "som fx \"hej\".\n",
        "\n",
        "Du skulle nu gerne få hjælp til mulige metoder. Prøv at vælge \"upper\". Hvis du bare køre cellen får du en noget mystisk besked \"<function str.upper()>\", det er fordi metoden forventer at du evt giver den noget input i en \"()\". Prøv at sætte en tom \"()\" efter og se hvad der nu sker.\n",
        "\n",
        "Prøve også med \"replace\" og lad curseren står efter replace et lille øjeblik så giver den hjælp (kan indsættes med tab tasten), hvis man sætte den første parantes og trykker tab fås mere hjælp."
      ],
      "metadata": {
        "id": "-YKCbLhlVNjy"
      }
    },
    {
      "cell_type": "code",
      "source": [],
      "metadata": {
        "id": "5_b5ath7T_W_"
      },
      "execution_count": null,
      "outputs": []
    },
    {
      "cell_type": "markdown",
      "source": [
        "## Variable og datatyper"
      ],
      "metadata": {
        "id": "dUjiOlkITXEF"
      }
    },
    {
      "cell_type": "markdown",
      "source": [
        "En grundsten i programmering er variable.\n",
        "\n",
        "I Python betyder\n",
        "\n",
        "x = 2\n",
        "\n",
        "Sæt variabel \"x\" til 2\n",
        "\n",
        "Hvis man i en celle ender med et variabel udskrives denne, prøv det (hvis man vil have mere skrevet ud er kommandoen print() god at kende, mere om det lige nedenfor)."
      ],
      "metadata": {
        "id": "6_vnWGD8TtH_"
      }
    },
    {
      "cell_type": "code",
      "source": [
        ""
      ],
      "metadata": {
        "id": "M5zmJrrFJq8j"
      },
      "execution_count": null,
      "outputs": []
    },
    {
      "cell_type": "markdown",
      "source": [
        "Alt vi har lært indtil nu kan bruges på variable.\n",
        "\n",
        "Prøv at lave en celle som sætter to variabel og retunere deres sum (prøv både med tal og strenge).\n",
        "\n",
        "Prøve også at udskrive både tal og resultatet."
      ],
      "metadata": {
        "id": "q2Y-zDEMXmu2"
      }
    },
    {
      "cell_type": "code",
      "source": [],
      "metadata": {
        "id": "X6CN9eXJXV59"
      },
      "execution_count": null,
      "outputs": []
    },
    {
      "cell_type": "markdown",
      "source": [
        "Der er mange måder at skrive ud på fra Python, her er et eksempel. Prøv at se om du kan forstå det f\"\"  er en såkaldt f-string i Python og gør det let at skrive variable mm ud. (Bemærk at dette er en mere moderne metode end i den youtube serie jeg bad jer se)"
      ],
      "metadata": {
        "id": "fjK36l1ZYFGW"
      }
    },
    {
      "cell_type": "code",
      "source": [
        "a = 3\n",
        "b = 4\n",
        "print(f\"{a=} og {b=}\")\n",
        "print(f\"{a} + {b} = {a+b} \")\n"
      ],
      "metadata": {
        "id": "ozgHwMCZYC2O"
      },
      "execution_count": null,
      "outputs": []
    },
    {
      "cell_type": "markdown",
      "source": [
        "Hvis man skulle have glemt hvilken slags en variabel er kan man med kommandoen type få lidt information, prøve det på en variabel med et tal (både heltal og kommatale) og en streng."
      ],
      "metadata": {
        "id": "2glKbvGVZfOV"
      }
    },
    {
      "cell_type": "code",
      "source": [],
      "metadata": {
        "id": "lMtKRh0FYUK-"
      },
      "execution_count": 40,
      "outputs": []
    },
    {
      "cell_type": "markdown",
      "source": [
        "## Lists, Dictionaries og Tuples\n",
        "\n",
        "*   List item\n",
        "*   List item\n",
        "\n"
      ],
      "metadata": {
        "id": "lQRNrCyrcdmZ"
      }
    },
    {
      "cell_type": "markdown",
      "source": [
        "Det er fint med variabel som kan indenholde en enkelt værdi, men ofter har man behov for at have flere objekter på en strukturert måde."
      ],
      "metadata": {
        "id": "bx9kaa1kclcP"
      }
    },
    {
      "cell_type": "markdown",
      "source": [
        "### lists (lister)\n",
        "\n",
        "Den mest brugte struktur er en liste.\n",
        "\n",
        "Den laves ved at bruge \"[]\", og objekterne adskildes med ,.\n",
        "\n",
        "eks:\n",
        "\n",
        "a = [1, 2, 3]\n",
        "\n",
        "Prøv at lave en liste med tal og en med strenge (husk at får at få Python til at udskrive noget skal man bare angive variablen som det sidste i cellen)"
      ],
      "metadata": {
        "id": "1_-k3tavep2z"
      }
    },
    {
      "cell_type": "code",
      "source": [],
      "metadata": {
        "id": "oTW0336jclE3"
      },
      "execution_count": 42,
      "outputs": []
    },
    {
      "cell_type": "markdown",
      "source": [
        "Elementerne i en liste behøver ikke være samme type, man kan f.eks. godt lave\n",
        "\n",
        "b = [1, 3, 5, 6, 'cat', [1,2]]\n",
        "\n",
        "Prøv det (selvom det er lidt noget rod), som du kan se kan en liste også indenholde andre lister (det bruger man tit)."
      ],
      "metadata": {
        "id": "cq2iiD2GfMVz"
      }
    },
    {
      "cell_type": "code",
      "source": [],
      "metadata": {
        "id": "kV4xQVjfZcFX"
      },
      "execution_count": null,
      "outputs": []
    },
    {
      "cell_type": "markdown",
      "source": [
        "Man kan tilgå et element i en liste med\n",
        "\n",
        "a[n]\n",
        "\n",
        "Hvor n er index (nummeret) på det element man vil have, prøv det, og find ud af hvilket index det første element har.\n",
        "\n"
      ],
      "metadata": {
        "id": "vQpDyG2ZfqIB"
      }
    },
    {
      "cell_type": "code",
      "source": [],
      "metadata": {
        "id": "roCc0Z0sftsD"
      },
      "execution_count": 43,
      "outputs": []
    },
    {
      "cell_type": "markdown",
      "source": [
        "Man kan også få flere elementer fra en liste (det giver så en ny liste)\n",
        "\n",
        "fx\n",
        "a[1:3]\n",
        "\n",
        "Prøv at finde ud af hvad de to \"index\" betyder"
      ],
      "metadata": {
        "id": "0na7E8Ptf-Ni"
      }
    },
    {
      "cell_type": "code",
      "source": [],
      "metadata": {
        "id": "Tvq-Csw4fu_Y"
      },
      "execution_count": 45,
      "outputs": []
    },
    {
      "cell_type": "markdown",
      "source": [
        "Man kan også tilføje og fjerne elementer fra en liste prøv at undersøge følgende metoder (den med \".\"\"\n",
        "\n",
        "append(tal), pop() (kan bruges både med index og uden)\n",
        "\n",
        "prøve også insert funktionen (brug hjælpen for at finde ud af hvad den gør).\n",
        "\n",
        "\n"
      ],
      "metadata": {
        "id": "afAreGJMi77z"
      }
    },
    {
      "cell_type": "code",
      "source": [],
      "metadata": {
        "id": "LrSV0XYHjG2h"
      },
      "execution_count": 56,
      "outputs": []
    },
    {
      "cell_type": "markdown",
      "source": [
        "Endelig kan man ændre en værdi hvis man vil\n",
        "\n",
        "fx\n",
        "\n",
        "a[1] = 3"
      ],
      "metadata": {
        "id": "DjuMq_McoBUn"
      }
    },
    {
      "cell_type": "code",
      "source": [],
      "metadata": {
        "id": "0YWIemhaoHX1"
      },
      "execution_count": null,
      "outputs": []
    },
    {
      "cell_type": "markdown",
      "source": [
        "## Dictionaries\n",
        "\n",
        "En anden meget brugt datatype er en såkalde ordbøger, \"Dict\".\n",
        "\n",
        "En Dict har den egenskab et \"index\" kan være (ca) hvad som helst.\n",
        "\n",
        "Eksempel\n",
        "\n",
        "d = {'Navn':'Peter', 'Alder' : 4}\n",
        "\n",
        "'Navn' og 'Alder' er sådaldte \"keys\", 'Peter' og 4 såkaldte values (man snakker om et key-value par.\n",
        "\n",
        "en enkelt value kan fås som fx.\n",
        "\n",
        "d['Navn']\n",
        "\n",
        "Prøv det"
      ],
      "metadata": {
        "id": "jGm7quo5iSK7"
      }
    },
    {
      "cell_type": "code",
      "source": [],
      "metadata": {
        "id": "dkIQDAvUiQho"
      },
      "execution_count": 61,
      "outputs": []
    },
    {
      "cell_type": "markdown",
      "source": [
        "Man kan let indsætte en ny key,value\n",
        "\n",
        "d['adreses' = 'RUC']\n",
        "\n",
        "og tit starter man med en tom dict, og så tilføjer elementer derefter\n",
        "\n",
        "e={}\n",
        "\n",
        "Prøv det:"
      ],
      "metadata": {
        "id": "Q-LEefefnQy5"
      }
    },
    {
      "cell_type": "code",
      "source": [],
      "metadata": {
        "id": "aXFBoi-Nn6zp"
      },
      "execution_count": null,
      "outputs": []
    },
    {
      "cell_type": "markdown",
      "source": [
        "## Tuples\n",
        "\n",
        "Endelig findes tuples, som på mange måder er som en liste, men man definere den med \"( )\" i stedet for \"[ ]\".\n",
        "\n",
        "To vigtige forskelle til lister er at man ikke kan ændre i en tuple når den er oprettet, og at den kan bruges som index til dict's (tro mig det er nyttigt).\n",
        "\n",
        "Prøv at lave en tupel og se hvad der sker hvis du prøver at ændre den, prøv også evt at bruge en liste og en tuple som index til en dict."
      ],
      "metadata": {
        "id": "PdFSiQnon4mv"
      }
    },
    {
      "cell_type": "code",
      "source": [],
      "metadata": {
        "id": "4CwBiMNLgInU"
      },
      "execution_count": 70,
      "outputs": []
    },
    {
      "cell_type": "markdown",
      "source": [
        "# Næste gang\n",
        "\n",
        "Der skal vi se på:\n",
        "*   At gennemløbe elementer i lister, dict, og tuples\n",
        "*   At styre hvad programmet gør ud fra variable\n",
        "\n"
      ],
      "metadata": {
        "id": "frNvywgXo_js"
      }
    },
    {
      "cell_type": "markdown",
      "source": [
        "# Bonus"
      ],
      "metadata": {
        "id": "OosHE45spjM2"
      }
    },
    {
      "cell_type": "markdown",
      "source": [
        "Man har ofte brug for en liste af tal fra a til b, en sådan kan laves med\n",
        "range(a,b+1).\n",
        "\n",
        "Det bliver dog ikke direkte til en liste (men den opføre sig ligesom undtagen at den ikke skrives ud automatisk, men det kan klares:\n",
        "\n",
        "print(list(range(1,5)))"
      ],
      "metadata": {
        "id": "QIdZafaNpljE"
      }
    },
    {
      "cell_type": "code",
      "source": [],
      "metadata": {
        "id": "rjCU2lGhpAXi"
      },
      "execution_count": 79,
      "outputs": []
    },
    {
      "cell_type": "code",
      "source": [],
      "metadata": {
        "id": "0H6SjVGUpgD7"
      },
      "execution_count": null,
      "outputs": []
    }
  ]
}