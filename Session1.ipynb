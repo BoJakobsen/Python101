{
  "nbformat": 4,
  "nbformat_minor": 0,
  "metadata": {
    "colab": {
      "provenance": [],
      "authorship_tag": "ABX9TyP/ozcaFJfXp90a+LSnA74U",
      "include_colab_link": true
    },
    "kernelspec": {
      "name": "python3",
      "display_name": "Python 3"
    },
    "language_info": {
      "name": "python"
    }
  },
  "cells": [
    {
      "cell_type": "markdown",
      "metadata": {
        "id": "view-in-github",
        "colab_type": "text"
      },
      "source": [
        "<a href=\"https://colab.research.google.com/github/BoJakobsen/Python101/blob/main/Session1.ipynb\" target=\"_parent\"><img src=\"https://colab.research.google.com/assets/colab-badge.svg\" alt=\"Open In Colab\"/></a>"
      ]
    },
    {
      "cell_type": "code",
      "execution_count": null,
      "metadata": {
        "id": "f4J5BWdDHKsr"
      },
      "outputs": [],
      "source": []
    },
    {
      "cell_type": "markdown",
      "source": [
        "# Kursusmateriale til TAP Python kursus, del 1"
      ],
      "metadata": {
        "id": "MOKM0mNhH7Wn"
      }
    },
    {
      "cell_type": "markdown",
      "source": [
        "En \"celle\" køres med \"shift + enter\" eller den lille \"Play knap\"\n",
        "\n",
        "En \"celle\" kan enten være kode eller tekst\n",
        "\n",
        "Man kan indsætte nye celler over eller under den nuværende celle"
      ],
      "metadata": {
        "id": "GVKLnqUmJwR_"
      }
    },
    {
      "cell_type": "markdown",
      "source": [
        "## Python som lommeregner"
      ],
      "metadata": {
        "id": "P4cQDI-nJMHI"
      }
    },
    {
      "cell_type": "markdown",
      "source": [
        "Python kan bruges som lommeregner, man kan både have heltal og kommatal (brug . som komma)\n",
        "\n",
        "Prøv at bruge de fire almindelige regnearter: +,-,*, /\n",
        "\n",
        "Parenteser virker som de plejer ( ), og Python regner med regnearterne i rigtig rækkefølge (prøv 2+5*2 og (2+5)*2\n",
        "\n",
        "Potens skrives som ** (og ikke ^ som i mange andre sprog)\n",
        "\n",
        "Prøve også de mere specielle // og % (prøv at finde ud af hvad de gør, prøv evt at spørge den indbyggede AI)"
      ],
      "metadata": {
        "id": "yP2eJ_mdJGWy"
      }
    },
    {
      "cell_type": "code",
      "source": [],
      "metadata": {
        "id": "jc_gqJlYJWJ-"
      },
      "execution_count": 14,
      "outputs": []
    },
    {
      "cell_type": "markdown",
      "source": [
        "## Variable og datatyper"
      ],
      "metadata": {
        "id": "dUjiOlkITXEF"
      }
    },
    {
      "cell_type": "code",
      "source": [],
      "metadata": {
        "id": "M5zmJrrFJq8j"
      },
      "execution_count": null,
      "outputs": []
    }
  ]
}