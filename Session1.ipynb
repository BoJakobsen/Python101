{
  "nbformat": 4,
  "nbformat_minor": 0,
  "metadata": {
    "colab": {
      "provenance": [],
      "authorship_tag": "ABX9TyN8JiQsHWcdBd20gtIDJ80S",
      "include_colab_link": true
    },
    "kernelspec": {
      "name": "python3",
      "display_name": "Python 3"
    },
    "language_info": {
      "name": "python"
    }
  },
  "cells": [
    {
      "cell_type": "markdown",
      "metadata": {
        "id": "view-in-github",
        "colab_type": "text"
      },
      "source": [
        "<a href=\"https://colab.research.google.com/github/BoJakobsen/Python101/blob/main/Session1.ipynb\" target=\"_parent\"><img src=\"https://colab.research.google.com/assets/colab-badge.svg\" alt=\"Open In Colab\"/></a>"
      ]
    },
    {
      "cell_type": "markdown",
      "source": [
        "# Kursusmateriale til TAP Python kursus, del 1"
      ],
      "metadata": {
        "id": "MOKM0mNhH7Wn"
      }
    },
    {
      "cell_type": "markdown",
      "source": [
        "En \"celle\" køres med \"shift + enter\" eller den lille \"Play knap\"\n",
        "\n",
        "En \"celle\" kan enten være kode eller tekst\n",
        "\n",
        "Man kan indsætte nye celler over eller under den nuværende celle\n",
        "\n",
        "Bemærk at kun resultatet fra den sidste linje i en kode celle skrives ud"
      ],
      "metadata": {
        "id": "GVKLnqUmJwR_"
      }
    },
    {
      "cell_type": "markdown",
      "source": [
        "## Python som lommeregner"
      ],
      "metadata": {
        "id": "P4cQDI-nJMHI"
      }
    },
    {
      "cell_type": "markdown",
      "source": [
        "Python kan bruges som lommeregner, man kan både have heltal og kommatal (brug . som komma)\n",
        "\n",
        "Prøv at bruge de fire almindelige regnearter: +,-,*, /\n",
        "\n",
        "Parenteser virker som de plejer ( ), og Python regner med regnearterne i rigtig rækkefølge (prøv 2+5*2 og (2+5)*2\n",
        "\n",
        "Potens skrives som ** (og ikke ^ som i mange andre sprog)\n",
        "\n",
        "Prøve også de mere specielle // og % (prøv at finde ud af hvad de gør, prøv evt at spørge den indbyggede AI)"
      ],
      "metadata": {
        "id": "yP2eJ_mdJGWy"
      }
    },
    {
      "cell_type": "code",
      "source": [],
      "metadata": {
        "id": "jc_gqJlYJWJ-"
      },
      "execution_count": null,
      "outputs": []
    },
    {
      "cell_type": "markdown",
      "source": [
        "## Simple tekst strenge"
      ],
      "metadata": {
        "id": "mQt1ppumT7ZQ"
      }
    },
    {
      "cell_type": "markdown",
      "source": [
        "Tekst skrives i Python enten med \" \" eller ' ' (der er frit valg)\n",
        "\n",
        "Python har mange funktioner som kan gøre ting på strenge.\n",
        "\n",
        "De kan f.eks. lægges sammen (prøv det)\n",
        ""
      ],
      "metadata": {
        "id": "W0QaeSRXT_Ck"
      }
    },
    {
      "cell_type": "code",
      "source": [],
      "metadata": {
        "id": "Q8ISzl79VCHh"
      },
      "execution_count": null,
      "outputs": []
    },
    {
      "cell_type": "markdown",
      "source": [
        "## Metoder"
      ],
      "metadata": {
        "id": "05zy8Mw4U7li"
      }
    },
    {
      "cell_type": "markdown",
      "source": [
        "En anden meget generel ting i Python er at et \"objekt\" (fx et tal eller en streng) kan kan såkaldte metoder tilknyttet som gør et eller andet.\n",
        "\n",
        "Prøve at lave en streng og sæt så umiddelbart et . (udenfor gåseøjnene)\n",
        "\n",
        "som fx \"hej\".\n",
        "\n",
        "Du skulle nu gerne få hjælp til mulige metoder. Prøv at vælge \"upper\". Hvis du bare køre cellen får du en noget mystisk besked \"<function str.upper()>\", det er fordi metoden forventer at du evt giver den noget input i en \"()\". Prøv at sætte en tom \"()\" efter og se hvad der nu sker.\n",
        "\n",
        "Prøve også med \"replace\" og lad curseren står efter replace et lille øjeblik så giver den hjælp (kan indsættes med tab tasten)."
      ],
      "metadata": {
        "id": "-YKCbLhlVNjy"
      }
    },
    {
      "cell_type": "code",
      "source": [],
      "metadata": {
        "id": "5_b5ath7T_W_"
      },
      "execution_count": null,
      "outputs": []
    },
    {
      "cell_type": "markdown",
      "source": [
        "## Variable og datatyper"
      ],
      "metadata": {
        "id": "dUjiOlkITXEF"
      }
    },
    {
      "cell_type": "markdown",
      "source": [
        "En grundsten i programmering er variable.\n",
        "\n",
        "I Python betyder\n",
        "\n",
        "x = 2\n",
        "\n",
        "Sæt variabel \"x\" til 2\n",
        "\n",
        "Hvis man i en celle ender med et variabel udskrives denne, prøv det (hvis man vil have mere skrevet ud er kommandoen print() god at kende, mere om det lige nedenfor)."
      ],
      "metadata": {
        "id": "6_vnWGD8TtH_"
      }
    },
    {
      "cell_type": "code",
      "source": [
        ""
      ],
      "metadata": {
        "id": "M5zmJrrFJq8j"
      },
      "execution_count": null,
      "outputs": []
    },
    {
      "cell_type": "markdown",
      "source": [
        "Alt vi har lært indtil nu kan bruges på variable.\n",
        "\n",
        "Prøv at lave en celle som sætter to variabel og retunere deres sum (prøv både med tal og strenge).\n",
        "\n",
        "Prøve også at udskrive både tal og resultatet."
      ],
      "metadata": {
        "id": "q2Y-zDEMXmu2"
      }
    },
    {
      "cell_type": "code",
      "source": [],
      "metadata": {
        "id": "X6CN9eXJXV59"
      },
      "execution_count": null,
      "outputs": []
    },
    {
      "cell_type": "markdown",
      "source": [
        "Der er mange måder at skrive ud på fra Python, her er et eksempel. Prøv at se om du kan forstå det f\"\"  er en såkaldt f-string i Python og gør det let at skrive variable mm ud. (Bemærk at dette er en mere moderne metode end i den youtube serie jeg bad jer se)"
      ],
      "metadata": {
        "id": "fjK36l1ZYFGW"
      }
    },
    {
      "cell_type": "code",
      "source": [
        "a = 3\n",
        "b = 4\n",
        "print(f\"{a=} og {b=}\")\n",
        "print(f\"{a} + {b} = {a+b} \")\n"
      ],
      "metadata": {
        "id": "ozgHwMCZYC2O"
      },
      "execution_count": null,
      "outputs": []
    },
    {
      "cell_type": "code",
      "source": [],
      "metadata": {
        "id": "lMtKRh0FYUK-"
      },
      "execution_count": null,
      "outputs": []
    }
  ]
}