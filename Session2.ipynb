{
  "nbformat": 4,
  "nbformat_minor": 0,
  "metadata": {
    "colab": {
      "provenance": [],
      "authorship_tag": "ABX9TyMAjONh8eW6FH2LwvZRBTZr",
      "include_colab_link": true
    },
    "kernelspec": {
      "name": "python3",
      "display_name": "Python 3"
    },
    "language_info": {
      "name": "python"
    }
  },
  "cells": [
    {
      "cell_type": "markdown",
      "metadata": {
        "id": "view-in-github",
        "colab_type": "text"
      },
      "source": [
        "<a href=\"https://colab.research.google.com/github/BoJakobsen/PythonTAP2025/blob/main/Session2.ipynb\" target=\"_parent\"><img src=\"https://colab.research.google.com/assets/colab-badge.svg\" alt=\"Open In Colab\"/></a>"
      ]
    },
    {
      "cell_type": "markdown",
      "source": [
        "# Kursusmateriale til TAP Python kursus, del 2\n",
        "\n",
        "Genbesøg de forskellige datatyper fra del 1.\n",
        "\n",
        "I denne del skal vi se på flow og kontrol struktur.\n",
        "\n",
        "BEMÆRK at i Python bruger man indrykgning til at vise hvad der høre sammen."
      ],
      "metadata": {
        "id": "ymiHq8j1EnFp"
      }
    },
    {
      "cell_type": "markdown",
      "source": [
        "## forloops\n",
        "\n",
        "Den simpleste og mest brugte løkke er en \"for\" løkke.\n"
      ],
      "metadata": {
        "id": "9r9J9P6QH7oj"
      }
    },
    {
      "cell_type": "markdown",
      "source": [],
      "metadata": {
        "id": "23WKdV0AIYYe"
      }
    },
    {
      "cell_type": "markdown",
      "source": [
        "1.   **Regular løkke**\n",
        "\n",
        "\n",
        "F.eks.\n",
        "\n",
        "```Python\n",
        "lst = []\n",
        "for i in range(21):\n",
        "    lst.append(i**3)\n",
        "```\n",
        "\n",
        "Bemærk indrykningen, og \":\" efter linjen med \"for\".\n",
        "\n",
        "Mind dig selv om hvad alle kommandoerne i dette lille eksempel gør.\n",
        "\n",
        "* Lav en løkke som lægger tallene fra 1 til 10 sammen, eller fra 1 til 1000.\n",
        "* Lav en løkke som lave en liste med alle de lige tal fra 0 til og med 20\n"
      ],
      "metadata": {
        "id": "b6M20KiTIZop"
      }
    },
    {
      "cell_type": "code",
      "execution_count": 2,
      "metadata": {
        "id": "2ntJ4VzjDJ1O"
      },
      "outputs": [],
      "source": []
    },
    {
      "cell_type": "markdown",
      "source": [
        "2. **List løkke**\n",
        "\n",
        "```Python\n",
        "lst = ['fog', 'cat', 'horse']\n",
        "for item in lst:\n",
        "    print(item)\n",
        "```\n",
        "\n",
        "Husk hvad det hele betyder.\n",
        "\n",
        "Modificer koden så den udskriver ordene i lst med store bogstaver.\n",
        "\n",
        "\n"
      ],
      "metadata": {
        "id": "66FTNFYoKRio"
      }
    },
    {
      "cell_type": "markdown",
      "source": [
        "3. **Andre løkker**\n",
        "\n",
        "Man kan også lave `for` over de fleste andre datatyper vi har set på. Prøv f.eks. at lave en løkke over en streng, som udskriver de enkete bogstaver."
      ],
      "metadata": {
        "id": "skOcbtulLTK3"
      }
    },
    {
      "cell_type": "code",
      "source": [],
      "metadata": {
        "id": "mmp4bNzjJL8U"
      },
      "execution_count": 3,
      "outputs": []
    },
    {
      "cell_type": "markdown",
      "source": [
        "Prøv f.eks. og at få \"AI\"'en til at hjælpe med at lave en løkke over en dict, og prøv at forstå de forskellige versioner."
      ],
      "metadata": {
        "id": "Lz1CX8-OLcxX"
      }
    },
    {
      "cell_type": "code",
      "source": [],
      "metadata": {
        "id": "fNpED999Lvni"
      },
      "execution_count": null,
      "outputs": []
    },
    {
      "cell_type": "markdown",
      "source": [
        "Man kan også have \"dobbelt løkker\" som f.eks.\n",
        "\n",
        "```Python\n",
        "for i in range(5):\n",
        "    for j in range(5):\n",
        "        print(f'{i=}, {j=}')\n",
        "```\n",
        "\n",
        "Prøv det, og mind dig også lige om hvordan det nu var med \"f\" strings.\n"
      ],
      "metadata": {
        "id": "IcrTtCrwL8VT"
      }
    },
    {
      "cell_type": "code",
      "source": [],
      "metadata": {
        "id": "PfTzPOI8MRfd"
      },
      "execution_count": null,
      "outputs": []
    },
    {
      "cell_type": "markdown",
      "source": [
        "Tænk over hvad forskellen er på de forskellige typer som vi har har set på.\n",
        "\n"
      ],
      "metadata": {
        "id": "zX0mdD8zK6RX"
      }
    },
    {
      "cell_type": "markdown",
      "source": [
        "## Sammenligning og \"if statements\"\n",
        "\n",
        "Den sidste ingrediens som vi mangler før vi kan lave \"rigtige\" programmer, er at kunne styre hvilke dele af et program som udføres, dette gøre med en kombination af `if statements` og forskellige sammenlignings metoder.  "
      ],
      "metadata": {
        "id": "4yU0jfFLNmQc"
      }
    },
    {
      "cell_type": "markdown",
      "source": [
        "Eksempel\n",
        "\n",
        "```Python\n",
        "i = 0\n",
        "\n",
        "if i==0:\n",
        "    print('yes')\n",
        "```\n",
        "\n",
        "Prøv det, bemærk den forskellige brug af `=` (betyder sæt lige med) og `==` (som betyder test om de er lig med hinanden)\n"
      ],
      "metadata": {
        "id": "R5hqjWe1OWKx"
      }
    },
    {
      "cell_type": "markdown",
      "source": [
        "Der er også `>`, `<`, `<=`, `>=`.\n",
        "\n",
        "Og hvis man du vil have ikke lige med `!=`.\n",
        "\n",
        "Man kan også skrive\n",
        "\n",
        "```Python\n",
        "i = 0\n",
        "\n",
        "if not i==0:\n",
        "    print('yes')\n",
        "```"
      ],
      "metadata": {
        "id": "UrjlzzeKOtoP"
      }
    },
    {
      "cell_type": "code",
      "source": [],
      "metadata": {
        "id": "NHWCNGSoQFpx"
      },
      "execution_count": null,
      "outputs": []
    },
    {
      "cell_type": "markdown",
      "source": [
        "Flere ting kan også testes på samme tid\n",
        "\n",
        "\n",
        "\n",
        "```Python\n",
        "if i==0 or j==3 :\n",
        "    print('yes')\n",
        "```\n",
        "\n",
        "der er selvfølgelig også `and`"
      ],
      "metadata": {
        "id": "T5OsqWNlQF97"
      }
    },
    {
      "cell_type": "code",
      "source": [],
      "metadata": {
        "id": "1WAR93NoQCMC"
      },
      "execution_count": null,
      "outputs": []
    },
    {
      "cell_type": "markdown",
      "source": [
        "Hvis man vil test om \"noget\" er i \"noget andet\" kan man bruge `in` som f.eks.\n",
        "\n",
        "```Python\n",
        "3 in [2, 3, 4]\n",
        "```\n",
        "\n",
        "Prøv at køre det direkte, og prøve at bruge det i en `if`"
      ],
      "metadata": {
        "id": "X7im1EdhQY8u"
      }
    },
    {
      "cell_type": "code",
      "source": [],
      "metadata": {
        "id": "1vSVa6QzQpt0"
      },
      "execution_count": null,
      "outputs": []
    },
    {
      "cell_type": "markdown",
      "source": [
        "Det kan også bruges på strenge (og også til dict (her testes på index) og andre type)\n",
        "\n",
        "```Python\n",
        "4 in {'he':4}\n",
        "\n",
        "3 in (3, 5)\n",
        "\n",
        "```"
      ],
      "metadata": {
        "id": "Bk-bsGIEQqso"
      }
    },
    {
      "cell_type": "markdown",
      "source": [
        "## Bonus, flere løkker"
      ],
      "metadata": {
        "id": "DZGS_CJdRsTI"
      }
    },
    {
      "cell_type": "code",
      "source": [],
      "metadata": {
        "id": "LnteozbjQybM"
      },
      "execution_count": 10,
      "outputs": []
    },
    {
      "cell_type": "code",
      "source": [],
      "metadata": {
        "id": "jXn-_dRJRqel"
      },
      "execution_count": null,
      "outputs": []
    }
  ]
}