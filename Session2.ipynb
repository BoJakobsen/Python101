{
  "nbformat": 4,
  "nbformat_minor": 0,
  "metadata": {
    "colab": {
      "provenance": [],
      "authorship_tag": "ABX9TyPRad90z89UN189rud0Gwhc",
      "include_colab_link": true
    },
    "kernelspec": {
      "name": "python3",
      "display_name": "Python 3"
    },
    "language_info": {
      "name": "python"
    }
  },
  "cells": [
    {
      "cell_type": "markdown",
      "metadata": {
        "id": "view-in-github",
        "colab_type": "text"
      },
      "source": [
        "<a href=\"https://colab.research.google.com/github/BoJakobsen/PythonTAP2025/blob/main/Session2.ipynb\" target=\"_parent\"><img src=\"https://colab.research.google.com/assets/colab-badge.svg\" alt=\"Open In Colab\"/></a>"
      ]
    },
    {
      "cell_type": "markdown",
      "source": [
        "# Kursusmateriale til TAP Python kursus, del 2\n",
        "\n",
        "Genbesøg de forskellige datatyper fra del 1.\n",
        "\n",
        "I denne del skal vi se på flow og kontrol struktur.\n",
        "\n",
        "BEMÆRK at i Python bruger man indrykgning til at vise hvad der høre sammen."
      ],
      "metadata": {
        "id": "ymiHq8j1EnFp"
      }
    },
    {
      "cell_type": "markdown",
      "source": [
        "## forloops\n",
        "\n",
        "Den simpleste og mest brugte løkke er en \"for\" løkke.\n"
      ],
      "metadata": {
        "id": "9r9J9P6QH7oj"
      }
    },
    {
      "cell_type": "markdown",
      "source": [],
      "metadata": {
        "id": "23WKdV0AIYYe"
      }
    },
    {
      "cell_type": "markdown",
      "source": [
        "1.   **Regular løkke**\n",
        "\n",
        "\n",
        "F.eks.\n",
        "\n",
        "```Python\n",
        "lst = []\n",
        "for i in range(21):\n",
        "    lst.append(i**3)\n",
        "```\n",
        "\n",
        "Bemærk indrykningen, og \":\" efter linjen med \"for\".\n",
        "\n",
        "Mind dig selv om hvad alle kommandoerne i dette lille eksempel gør.\n",
        "\n",
        "* Lav en løkke som lægger tallene fra 1 til 10 sammen, eller fra 1 til 1000.\n",
        "* Lav en løkke som lave en liste med alle de lige tal fra 0 til og med 20\n"
      ],
      "metadata": {
        "id": "b6M20KiTIZop"
      }
    },
    {
      "cell_type": "code",
      "execution_count": 2,
      "metadata": {
        "id": "2ntJ4VzjDJ1O"
      },
      "outputs": [],
      "source": []
    },
    {
      "cell_type": "markdown",
      "source": [
        "2. **List løkke**\n",
        "\n",
        "```Python\n",
        "lst = ['fog', 'cat', 'horse']\n",
        "for item in lst:\n",
        "    print(item)\n",
        "```\n",
        "\n",
        "Husk hvad det hele betyder.\n",
        "\n",
        "Modificer koden så den udskriver ordene i lst med store bogstaver.\n",
        "\n",
        "\n"
      ],
      "metadata": {
        "id": "66FTNFYoKRio"
      }
    },
    {
      "cell_type": "markdown",
      "source": [
        "3. **Andre løkker**\n",
        "\n",
        "Man kan også lave `for` over de fleste andre datatyper vi har set på. Prøv f.eks. at lave en løkke over en streng, som udskriver de enkete bogstaver."
      ],
      "metadata": {
        "id": "skOcbtulLTK3"
      }
    },
    {
      "cell_type": "code",
      "source": [],
      "metadata": {
        "id": "mmp4bNzjJL8U"
      },
      "execution_count": 3,
      "outputs": []
    },
    {
      "cell_type": "markdown",
      "source": [
        "Prøv f.eks. og at få \"AI\"'en til at hjælpe med at lave en løkke over en dict, og prøv at forstå de forskellige versioner."
      ],
      "metadata": {
        "id": "Lz1CX8-OLcxX"
      }
    },
    {
      "cell_type": "code",
      "source": [],
      "metadata": {
        "id": "fNpED999Lvni"
      },
      "execution_count": null,
      "outputs": []
    },
    {
      "cell_type": "markdown",
      "source": [
        "Tænk over hvad forskellen er på de forskellige typer som vi har har set på."
      ],
      "metadata": {
        "id": "zX0mdD8zK6RX"
      }
    },
    {
      "cell_type": "code",
      "source": [],
      "metadata": {
        "id": "beA6ZoZjLQpG"
      },
      "execution_count": null,
      "outputs": []
    }
  ]
}