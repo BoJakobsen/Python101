{
  "nbformat": 4,
  "nbformat_minor": 0,
  "metadata": {
    "colab": {
      "provenance": [],
      "authorship_tag": "ABX9TyMYUE0VQO9ACC/TLtPgr7ne",
      "include_colab_link": true
    },
    "kernelspec": {
      "name": "python3",
      "display_name": "Python 3"
    },
    "language_info": {
      "name": "python"
    }
  },
  "cells": [
    {
      "cell_type": "markdown",
      "metadata": {
        "id": "view-in-github",
        "colab_type": "text"
      },
      "source": [
        "<a href=\"https://colab.research.google.com/github/BoJakobsen/PythonTAP2025/blob/main/Session2.ipynb\" target=\"_parent\"><img src=\"https://colab.research.google.com/assets/colab-badge.svg\" alt=\"Open In Colab\"/></a>"
      ]
    },
    {
      "cell_type": "markdown",
      "source": [
        "# Kursusmateriale til TAP Python kursus, del 2\n",
        "\n",
        "Genbesøg de forskellige datatyper fra del 1.\n",
        "\n",
        "I denne del skal vi se på flow og kontrol struktur.\n",
        "\n",
        "BEMÆRK at i Python bruger man indrykgning til at vise hvad der høre sammen."
      ],
      "metadata": {
        "id": "ymiHq8j1EnFp"
      }
    },
    {
      "cell_type": "code",
      "source": [],
      "metadata": {
        "id": "Wi7kR6XHV7dW"
      },
      "execution_count": null,
      "outputs": []
    },
    {
      "cell_type": "markdown",
      "source": [
        "## `for` løkker\n",
        "\n",
        "Den simpleste og mest brugte løkke er en \"for\" løkke.\n"
      ],
      "metadata": {
        "id": "9r9J9P6QH7oj"
      }
    },
    {
      "cell_type": "markdown",
      "source": [],
      "metadata": {
        "id": "23WKdV0AIYYe"
      }
    },
    {
      "cell_type": "markdown",
      "source": [
        "1.   **Regular løkke**\n",
        "\n",
        "\n",
        "F.eks.\n",
        "\n",
        "```Python\n",
        "lst = []\n",
        "for i in range(21):\n",
        "    lst.append(i**3)\n",
        "```\n",
        "\n",
        "Bemærk indrykningen, og \":\" efter linjen med \"for\".\n",
        "\n",
        "Mind dig selv om hvad alle kommandoerne i dette lille eksempel gør.\n",
        "\n",
        "* Lav en løkke som lægger tallene fra 1 til 10 sammen, eller fra 1 til 1000.\n",
        "* Lav en løkke som lave en liste med alle de lige tal fra 0 til og med 20\n"
      ],
      "metadata": {
        "id": "b6M20KiTIZop"
      }
    },
    {
      "cell_type": "code",
      "execution_count": 2,
      "metadata": {
        "id": "2ntJ4VzjDJ1O"
      },
      "outputs": [],
      "source": []
    },
    {
      "cell_type": "markdown",
      "source": [
        "2. **List løkke**\n",
        "\n",
        "```Python\n",
        "lst = ['fog', 'cat', 'horse']\n",
        "for item in lst:\n",
        "    print(item)\n",
        "```\n",
        "\n",
        "Husk hvad det hele betyder.\n",
        "\n",
        "Modificer koden så den udskriver ordene i lst med store bogstaver.\n",
        "\n",
        "\n"
      ],
      "metadata": {
        "id": "66FTNFYoKRio"
      }
    },
    {
      "cell_type": "code",
      "source": [],
      "metadata": {
        "id": "Myy-4uXzV5BG"
      },
      "execution_count": null,
      "outputs": []
    },
    {
      "cell_type": "markdown",
      "source": [
        "3. **Andre løkker**\n",
        "\n",
        "Man kan også lave `for` over de fleste andre datatyper vi har set på. Prøv f.eks. at lave en løkke over en streng, som udskriver de enkete bogstaver."
      ],
      "metadata": {
        "id": "skOcbtulLTK3"
      }
    },
    {
      "cell_type": "code",
      "source": [],
      "metadata": {
        "id": "mmp4bNzjJL8U"
      },
      "execution_count": 3,
      "outputs": []
    },
    {
      "cell_type": "markdown",
      "source": [
        "Prøv f.eks. og at få \"AI\"'en til at hjælpe med at lave en løkke over en dict, og prøv at forstå de forskellige versioner."
      ],
      "metadata": {
        "id": "Lz1CX8-OLcxX"
      }
    },
    {
      "cell_type": "code",
      "source": [],
      "metadata": {
        "id": "fNpED999Lvni"
      },
      "execution_count": null,
      "outputs": []
    },
    {
      "cell_type": "markdown",
      "source": [
        "Man kan også have \"dobbelt løkker\" som f.eks.\n",
        "\n",
        "```Python\n",
        "for i in range(5):\n",
        "    for j in range(5):\n",
        "        print(f'{i=}, {j=}')\n",
        "```\n",
        "\n",
        "Prøv det, og mind dig også lige om hvordan det nu var med \"f\" strings.\n"
      ],
      "metadata": {
        "id": "IcrTtCrwL8VT"
      }
    },
    {
      "cell_type": "code",
      "source": [],
      "metadata": {
        "id": "PfTzPOI8MRfd"
      },
      "execution_count": null,
      "outputs": []
    },
    {
      "cell_type": "markdown",
      "source": [
        "Tænk over hvad forskellen er på de forskellige typer som vi har har set på.\n",
        "\n"
      ],
      "metadata": {
        "id": "zX0mdD8zK6RX"
      }
    },
    {
      "cell_type": "markdown",
      "source": [
        "## Sammenligning og \"`if`-statements\"\n",
        "\n",
        "Den sidste ingrediens som vi mangler før vi kan lave \"rigtige\" programmer, er at kunne styre hvilke dele af et program som udføres, dette gøre med en kombination af `if`-statements og forskellige sammenlignings metoder.  "
      ],
      "metadata": {
        "id": "4yU0jfFLNmQc"
      }
    },
    {
      "cell_type": "markdown",
      "source": [
        "Eksempel\n",
        "\n",
        "```Python\n",
        "i = 0\n",
        "\n",
        "if i==0:\n",
        "    print('yes')\n",
        "```\n",
        "\n",
        "Prøv det, bemærk den forskellige brug af `=` (betyder sæt lige med) og `==` (som betyder test om de er lig med hinanden)\n"
      ],
      "metadata": {
        "id": "R5hqjWe1OWKx"
      }
    },
    {
      "cell_type": "code",
      "source": [],
      "metadata": {
        "id": "EZN-dxliWBOA"
      },
      "execution_count": null,
      "outputs": []
    },
    {
      "cell_type": "markdown",
      "source": [
        "Der er også `>`, `<`, `<=`, `>=`.\n",
        "\n",
        "Og hvis man du vil have ikke lige med `!=`.\n",
        "\n",
        "Man kan også skrive\n",
        "\n",
        "```Python\n",
        "i = 0\n",
        "\n",
        "if not i==0:\n",
        "    print('yes')\n",
        "```"
      ],
      "metadata": {
        "id": "UrjlzzeKOtoP"
      }
    },
    {
      "cell_type": "code",
      "source": [],
      "metadata": {
        "id": "NHWCNGSoQFpx"
      },
      "execution_count": null,
      "outputs": []
    },
    {
      "cell_type": "markdown",
      "source": [
        "Flere ting kan også testes på samme tid\n",
        "\n",
        "\n",
        "\n",
        "```Python\n",
        "if i==0 or j==3 :\n",
        "    print('yes')\n",
        "```\n",
        "\n",
        "der er selvfølgelig også `and`"
      ],
      "metadata": {
        "id": "T5OsqWNlQF97"
      }
    },
    {
      "cell_type": "code",
      "source": [],
      "metadata": {
        "id": "1WAR93NoQCMC"
      },
      "execution_count": null,
      "outputs": []
    },
    {
      "cell_type": "markdown",
      "source": [
        "Hvis man vil test om \"noget\" er i \"noget andet\" kan man bruge `in` som f.eks.\n",
        "\n",
        "```Python\n",
        "3 in [2, 3, 4]\n",
        "```\n",
        "\n",
        "Prøv at køre det direkte, og prøve at bruge det i en `if`"
      ],
      "metadata": {
        "id": "X7im1EdhQY8u"
      }
    },
    {
      "cell_type": "code",
      "source": [],
      "metadata": {
        "id": "1vSVa6QzQpt0"
      },
      "execution_count": null,
      "outputs": []
    },
    {
      "cell_type": "markdown",
      "source": [
        "Det kan også bruges på strenge (og også til dict (her testes på index) og andre type)\n",
        "\n",
        "```Python\n",
        "4 in {'he':4}\n",
        "\n",
        "3 in (3, 5)\n",
        "\n",
        "```"
      ],
      "metadata": {
        "id": "Bk-bsGIEQqso"
      }
    },
    {
      "cell_type": "code",
      "source": [],
      "metadata": {
        "id": "r-WdYcLwWFkq"
      },
      "execution_count": null,
      "outputs": []
    },
    {
      "cell_type": "markdown",
      "source": [
        "## Bonus, flere løkker\n",
        "\n",
        "Et par ting mere som kan være praktiske"
      ],
      "metadata": {
        "id": "DZGS_CJdRsTI"
      }
    },
    {
      "cell_type": "markdown",
      "source": [
        "`while` løkke, er en kombination af `for` og `if` som nogen gange er lettere at læse.\n",
        "\n",
        "Prøv følgende og se om du kan forstå det.\n",
        "\n",
        "```Python\n",
        "res = 2\n",
        "\n",
        "while res < 100 :\n",
        "  res = res ** 2\n",
        "  print(res)\n",
        "```"
      ],
      "metadata": {
        "id": "z0HCAYYwRzWD"
      }
    },
    {
      "cell_type": "code",
      "source": [],
      "metadata": {
        "id": "jXn-_dRJRqel"
      },
      "execution_count": null,
      "outputs": []
    },
    {
      "cell_type": "markdown",
      "source": [
        "Løkker over liste hvor man også får \"nummeret på elementet\"\n",
        "\n",
        "```Pyton\n",
        "lst = ['hund', 'kat', 'hest']\n",
        "for i, element in enumerate(lst):\n",
        "    print(f'Index {i} indenholder {element}')\n",
        "```\n",
        "\n",
        "Man kan naturligvis lave dette med en tæller også (prøv lige det), men `emumerate` gør det letter at læse."
      ],
      "metadata": {
        "id": "oVKQEhI_Sxnq"
      }
    },
    {
      "cell_type": "code",
      "source": [],
      "metadata": {
        "id": "dGYkJwCOTG50"
      },
      "execution_count": null,
      "outputs": []
    },
    {
      "cell_type": "markdown",
      "source": [
        "## Opgaver"
      ],
      "metadata": {
        "id": "OIHdf7WtTtdK"
      }
    },
    {
      "cell_type": "markdown",
      "source": [
        "**Løkke over tekst**\n",
        "\n",
        "Digtet nedenfor er organiseret således, at hver digtlinje er et nyt element i listen.\n",
        "\n",
        "poem=['when day comes we ask ourselves,',\\ 'where can we find light in this never-ending shade?',\\ 'the loss we carry,',\\ 'a sea we must wade',\\ \"we've braved the belly of the beast\",\\ \"we've learned that quiet isn't always peace\",\\ \"and the norms and notions\",\\ \"of what just is\"]\n",
        "\n",
        "Lav en løkke gennem linjerne i digtet, og hvis linjen indeholder'we', så udskriv 'linje __ indeholder we', hvor '__' er linjenummeret.\n"
      ],
      "metadata": {
        "id": "6inGsTdKUB2Y"
      }
    },
    {
      "cell_type": "code",
      "metadata": {
        "id": "c1b5a49b"
      },
      "source": [
        "poem = ['when day comes we ask ourselves,',\n",
        "     'where can we find light in this never-ending shade?',\n",
        "     'the loss we carry,',\n",
        "     'a sea we must wade',\n",
        "     \"we've braved the belly of the beast\",\n",
        "     \"we've learned that quiet isn't always peace\",\n",
        "     \"and the norms and notions\",\n",
        "     \"of what just is\"]\n",
        ""
      ],
      "execution_count": 16,
      "outputs": []
    },
    {
      "cell_type": "code",
      "source": [],
      "metadata": {
        "id": "uW20vdD3Tunt"
      },
      "execution_count": null,
      "outputs": []
    },
    {
      "cell_type": "markdown",
      "source": [
        "**Sum af tal**\n",
        "\n",
        "Find summen af alle tal mellem 1 og 999999, undtagen den som kan divideres med 4 eller 6.\n"
      ],
      "metadata": {
        "id": "NC2GKD_zU95o"
      }
    },
    {
      "cell_type": "code",
      "source": [],
      "metadata": {
        "id": "4911POLbVc3z"
      },
      "execution_count": null,
      "outputs": []
    },
    {
      "cell_type": "markdown",
      "source": [
        "Find de første 10 (100) Fibonacci tal (https://da.wikipedia.org/wiki/Fibonacci-tal)"
      ],
      "metadata": {
        "id": "ER6P-B6YVNmf"
      }
    },
    {
      "cell_type": "code",
      "metadata": {
        "id": "5678a8f8"
      },
      "source": [],
      "execution_count": null,
      "outputs": []
    },
    {
      "cell_type": "markdown",
      "source": [
        "**Advent of Code problem**\n",
        "\n",
        "Se om du kan lave næste uges lektie:\n",
        "\n",
        "https://colab.research.google.com/github/BoJakobsen/Python101/blob/main/AoC2024_day1.ipynb"
      ],
      "metadata": {
        "id": "Kthi_CuIT9KB"
      }
    },
    {
      "cell_type": "code",
      "source": [],
      "metadata": {
        "id": "iZTQFImnUBDM"
      },
      "execution_count": null,
      "outputs": []
    }
  ]
}