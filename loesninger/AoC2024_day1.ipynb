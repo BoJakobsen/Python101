{
  "nbformat": 4,
  "nbformat_minor": 0,
  "metadata": {
    "colab": {
      "provenance": [],
      "authorship_tag": "ABX9TyOT6Et4lHtb84wBjWy0tXmF",
      "include_colab_link": true
    },
    "kernelspec": {
      "name": "python3",
      "display_name": "Python 3"
    },
    "language_info": {
      "name": "python"
    }
  },
  "cells": [
    {
      "cell_type": "markdown",
      "metadata": {
        "id": "view-in-github",
        "colab_type": "text"
      },
      "source": [
        "<a href=\"https://colab.research.google.com/github/BoJakobsen/Python101/blob/main/loesninger/AoC2024_day1.ipynb\" target=\"_parent\"><img src=\"https://colab.research.google.com/assets/colab-badge.svg\" alt=\"Open In Colab\"/></a>"
      ]
    },
    {
      "cell_type": "markdown",
      "source": [
        "For beskrivelse af opgaven se:\n",
        "\n",
        "https://adventofcode.com/2024/day/1\n",
        "\n",
        "Cellen nedenfor konvertere test dataene til en \"liste af lister\" som man kan arbejde videre på."
      ],
      "metadata": {
        "id": "aXT2dA9-sEJV"
      }
    },
    {
      "cell_type": "code",
      "metadata": {
        "colab": {
          "base_uri": "https://localhost:8080/"
        },
        "id": "4d8b5ca8",
        "outputId": "f7a0b666-1ab9-4293-b7c2-b074a683b66f"
      },
      "source": [
        "# define the data as a multiline string (as it will be in the file for the real problem)\n",
        "data_raw = \"\"\"3   4\n",
        "          4   3\n",
        "          2   5\n",
        "          1   3\n",
        "          3   9\n",
        "          3   3\"\"\"\n",
        "\n",
        "# Split the data into lines, then split each line by whitespace and convert to integers\n",
        "data = [[int(x) for x in line.split()] for line in data_raw.strip().split('\\n')]\n",
        "\n",
        "print(data)"
      ],
      "execution_count": 1,
      "outputs": [
        {
          "output_type": "stream",
          "name": "stdout",
          "text": [
            "[[3, 4], [4, 3], [2, 5], [1, 3], [3, 9], [3, 3]]\n"
          ]
        }
      ]
    },
    {
      "cell_type": "markdown",
      "source": [
        "Nedenfor findes et par løsninger med forskellige grader af Pythonistisk tilgang, prøv at slå de funktioner op du ikke forstår, eller brug AI til at forklarer."
      ],
      "metadata": {
        "id": "583CioII4X-m"
      }
    },
    {
      "cell_type": "code",
      "source": [
        "\n",
        "# konverter data til søjler (det kunne man jo også have gjort ved indlæsningen)\n",
        "c1 = []\n",
        "c2 = []\n",
        "for a,b in data:\n",
        "    c1.append(a)\n",
        "    c2.append(b)\n",
        "\n",
        "total = 0\n",
        "# En simpel løsning, som dog ikke er særlig tids effektiv\n",
        "while len(c1)>0: # så længe der er elemente i c1 fortsætter vi\n",
        "  mc1 = min(c1) # find mindste element i c1\n",
        "  mc2 = min(c2) # find mindste element i c2\n",
        "  c1.remove(mc1) # fjern mindste element fra c1\n",
        "  c2.remove(mc2) # fjern mindste element fra c2\n",
        "  total += abs(mc1-mc2) # summer forskellen\n",
        "\n",
        "print(total)\n"
      ],
      "metadata": {
        "colab": {
          "base_uri": "https://localhost:8080/"
        },
        "id": "HdMRLZ0Q3LkL",
        "outputId": "bd9553ae-3269-4f82-ea97-7271302edd60"
      },
      "execution_count": 2,
      "outputs": [
        {
          "output_type": "stream",
          "name": "stdout",
          "text": [
            "11\n"
          ]
        }
      ]
    },
    {
      "cell_type": "code",
      "source": [],
      "metadata": {
        "id": "BfE3gVgr3dQE"
      },
      "execution_count": 2,
      "outputs": []
    },
    {
      "cell_type": "code",
      "source": [
        "\n",
        "# konverter data til søjler (det kunne man jo også have gjort ved indlæsningen)\n",
        "c1 = []\n",
        "c2 = []\n",
        "for a,b in data:\n",
        "    c1.append(a)\n",
        "    c2.append(b)\n",
        "\n",
        "# brug sorter metoden på en liste\n",
        "c1.sort()\n",
        "c2.sort()\n",
        "print(c1)\n",
        "print(c2)"
      ],
      "metadata": {
        "id": "q8j2BqOCsvzg",
        "colab": {
          "base_uri": "https://localhost:8080/"
        },
        "outputId": "e3c24851-57a1-45b5-9d8a-979a602bbd8d"
      },
      "execution_count": 3,
      "outputs": [
        {
          "output_type": "stream",
          "name": "stdout",
          "text": [
            "[1, 2, 3, 3, 3, 4]\n",
            "[3, 3, 3, 4, 5, 9]\n"
          ]
        }
      ]
    },
    {
      "cell_type": "code",
      "source": [
        "\n",
        "# summer forskellen op, her med en \"gammeldags\" metode med eksplisit loop over antale af elementer\n",
        "# pas på det virker kun hvis der er lige mange elementer i c1 og c2.\n",
        "total = 0\n",
        "N  = len(c1)\n",
        "for i in range(N):\n",
        "    total += abs(c1[i]-c2[i])\n",
        "print(total)"
      ],
      "metadata": {
        "colab": {
          "base_uri": "https://localhost:8080/"
        },
        "id": "TnGpxQVM2pN8",
        "outputId": "5a97f08b-824e-4739-bf1c-78f438d5b901"
      },
      "execution_count": 4,
      "outputs": [
        {
          "output_type": "stream",
          "name": "stdout",
          "text": [
            "11\n"
          ]
        }
      ]
    },
    {
      "cell_type": "code",
      "source": [
        "\n",
        "# summer forskellen op, her bruges den lidt sværer funktion zip, som kombinere to lister\n",
        "# En hurtigere og mere Pythonistisk løsing\n",
        "total = 0\n",
        "for a,b in zip(c1,c2):\n",
        "    total += abs(a-b)\n",
        "print(total)"
      ],
      "metadata": {
        "colab": {
          "base_uri": "https://localhost:8080/"
        },
        "id": "Cd6Wjt5v05hw",
        "outputId": "d80322a1-616e-4dae-cd84-549e99439617"
      },
      "execution_count": 5,
      "outputs": [
        {
          "output_type": "stream",
          "name": "stdout",
          "text": [
            "11\n"
          ]
        }
      ]
    },
    {
      "cell_type": "code",
      "source": [],
      "metadata": {
        "id": "bEuhpzHK2n9z"
      },
      "execution_count": 5,
      "outputs": []
    }
  ]
}