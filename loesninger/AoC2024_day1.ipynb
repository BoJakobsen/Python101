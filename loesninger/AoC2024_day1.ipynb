{
  "nbformat": 4,
  "nbformat_minor": 0,
  "metadata": {
    "colab": {
      "provenance": [],
      "authorship_tag": "ABX9TyOzBY/tLvGbIKJG6+e9GDvf",
      "include_colab_link": true
    },
    "kernelspec": {
      "name": "python3",
      "display_name": "Python 3"
    },
    "language_info": {
      "name": "python"
    }
  },
  "cells": [
    {
      "cell_type": "markdown",
      "metadata": {
        "id": "view-in-github",
        "colab_type": "text"
      },
      "source": [
        "<a href=\"https://colab.research.google.com/github/BoJakobsen/Python101/blob/main/loesninger/AoC2024_day1.ipynb\" target=\"_parent\"><img src=\"https://colab.research.google.com/assets/colab-badge.svg\" alt=\"Open In Colab\"/></a>"
      ]
    },
    {
      "cell_type": "markdown",
      "source": [
        "For beskrivelse af opgaven se:\n",
        "\n",
        "https://adventofcode.com/2024/day/1\n",
        "\n",
        "Cellen nedenfor konvertere test dataene til en \"liste af lister\" som man kan arbejde videre på."
      ],
      "metadata": {
        "id": "aXT2dA9-sEJV"
      }
    },
    {
      "cell_type": "code",
      "metadata": {
        "colab": {
          "base_uri": "https://localhost:8080/"
        },
        "id": "4d8b5ca8",
        "outputId": "0276e929-dde8-4f21-9868-b45e9b41572f"
      },
      "source": [
        "# define the data as a multiline string (as it will be in the file for the real problem)\n",
        "data_raw = \"\"\"3   4\n",
        "          4   3\n",
        "          2   5\n",
        "          1   3\n",
        "          3   9\n",
        "          3   3\"\"\"\n",
        "\n",
        "# Split the data into lines, then split each line by whitespace and convert to integers\n",
        "data = [[int(x) for x in line.split()] for line in data_raw.strip().split('\\n')]\n",
        "\n",
        "print(data)"
      ],
      "execution_count": null,
      "outputs": [
        {
          "output_type": "stream",
          "name": "stdout",
          "text": [
            "[[3, 4], [4, 3], [2, 5], [1, 3], [3, 9], [3, 3]]\n"
          ]
        }
      ]
    },
    {
      "cell_type": "code",
      "source": [],
      "metadata": {
        "id": "q8j2BqOCsvzg"
      },
      "execution_count": null,
      "outputs": []
    }
  ]
}